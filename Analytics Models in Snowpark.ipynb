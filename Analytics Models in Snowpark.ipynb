{
 "cells": [
  {
   "cell_type": "markdown",
   "id": "2686c886-44d9-43e7-9dca-dc75012c8d87",
   "metadata": {},
   "source": [
    "## 1: Connect to Snowflake raw and silver layers"
   ]
  },
  {
   "cell_type": "code",
   "execution_count": 110,
   "id": "dcd01189-89e1-4469-9045-e7072b8d9083",
   "metadata": {},
   "outputs": [
    {
     "name": "stdout",
     "output_type": "stream",
     "text": [
      "py38_env\n"
     ]
    }
   ],
   "source": [
    "#import libraries needed\n",
    "from snowflake.snowpark.session import Session\n",
    "import os\n",
    "\n",
    "#Checking I am in correct environment\n",
    "print (os.environ['CONDA_DEFAULT_ENV'])\n",
    "\n",
    "#config to connect to Snowflake ELT Stage\n",
    "snowflake_param_dict_elt = {\n",
    "    'account': 'flb08246',   \n",
    "    'user': 'HIPPO',              \n",
    "    'password': 'Stoves99!!',    \n",
    "    'role': 'ACCOUNTADMIN', \n",
    "    'warehouse': 'AH64595_WH',  \n",
    "    'database': 'AH64595_DW',    \n",
    "    'schema': 'ELT_STAGE'}\n",
    "\n",
    "#initiate the session with config (I got an authentication I had to approve)\n",
    "session_elt = Session.builder.configs(snowflake_param_dict_elt).create()"
   ]
  },
  {
   "cell_type": "code",
   "execution_count": 111,
   "id": "fd0235f6-dbd4-4260-ab01-c33f54f72423",
   "metadata": {},
   "outputs": [],
   "source": [
    "#config to connect to Snowflake Silver Layer\n",
    "snowflake_param_dict_silver = {\n",
    "    'account': 'flb08246',   \n",
    "    'user': 'HIPPO',              \n",
    "    'password': 'Stoves99!!',    \n",
    "    'role': 'ACCOUNTADMIN', \n",
    "    'warehouse': 'AH64595_WH',  \n",
    "    'database': 'AH64595_DW',    \n",
    "    'schema': 'EDW_SILVER_LAYER2'}\n",
    "\n",
    "#initiate the session with config\n",
    "session_silver = Session.builder.configs(snowflake_param_dict_silver).create()"
   ]
  },
  {
   "cell_type": "markdown",
   "id": "91163572-8104-4145-a313-a72256d32152",
   "metadata": {},
   "source": [
    "## 2: Set up Snowflake Dataframes"
   ]
  },
  {
   "cell_type": "code",
   "execution_count": 112,
   "id": "3a862890-7cbf-47f2-b444-bb4b2a762644",
   "metadata": {},
   "outputs": [],
   "source": [
    "#Create snowflake dataframes for the tables\n",
    "sf_df_noc = session_elt.table('NOC_REGIONS_DW')\n",
    "sf_df_athlete = session_elt.table('ATHLETE_EVENTS_DW')\n",
    "sf_df_merged = session_silver.table('NOC_ATHLETE_EVENTS_MERGE')"
   ]
  },
  {
   "cell_type": "code",
   "execution_count": 113,
   "id": "e7747a7d-2604-4aa4-bb9c-d147ae1eceb3",
   "metadata": {},
   "outputs": [
    {
     "name": "stdout",
     "output_type": "stream",
     "text": [
      "-----------------------------------------------------------------------------------------------------------------------------------------------------------------------------------------------------------------------------------------------------------------------\n",
      "|\"NOC\"  |\"COUNTRY\"  |\"ID\"    |\"NAME\"                            |\"SEX\"  |\"AGE\"  |\"HEIGHT\"  |\"WEIGHT\"  |\"GAMES\"      |\"YEAR\"  |\"YEAR_AS_DATE\"  |\"SEASON\"  |\"CITY\"    |\"CITY_YEAR\"    |\"SPORT\"        |\"SPORT_EVENT\"                            |\"MEDAL\"  |\"MEDAL_WON\"  |\n",
      "-----------------------------------------------------------------------------------------------------------------------------------------------------------------------------------------------------------------------------------------------------------------------\n",
      "|GBR    |UK         |128952  |\"Barrington J. \"\"Barry\"\" Watson\"  |M      |32     |166.0     |51.0      |1976 Summer  |1976    |1976-01-01      |Summer    |Montreal  |Montreal 1976  |Athletics      |Athletics Men's Marathon                 |NULL     |0            |\n",
      "|AUS    |Australia  |58972   |Michelle Kettner                  |F      |27     |162.0     |68.0      |2000 Summer  |2000    |2000-01-01      |Summer    |Sydney    |Sydney 2000    |Weightlifting  |Weightlifting Women's Light-Heavyweight  |NULL     |0            |\n",
      "|URS    |Russia     |109161  |Borys Anfiyanovych Shakhlin       |M      |32     |171.0     |71.0      |1964 Summer  |1964    |1964-01-01      |Summer    |Tokyo     |Tokyo 1964     |Gymnastics     |Gymnastics Men's Parallel Bars           |NULL     |0            |\n",
      "-----------------------------------------------------------------------------------------------------------------------------------------------------------------------------------------------------------------------------------------------------------------------\n",
      "\n"
     ]
    }
   ],
   "source": [
    "#Show a couple of records to make sure it is pulling in correctly\n",
    "sf_df_merged.show(3)"
   ]
  },
  {
   "cell_type": "code",
   "execution_count": 114,
   "id": "12281b11-1006-4ed7-ba17-b52693880455",
   "metadata": {},
   "outputs": [
    {
     "name": "stdout",
     "output_type": "stream",
     "text": [
      "230\n",
      "270443\n",
      "268696\n"
     ]
    }
   ],
   "source": [
    "#Print out the size of each dataframe \n",
    "print(sf_df_noc.count())\n",
    "print(sf_df_athlete.count())\n",
    "print(sf_df_merged.count()) #deduped and cleaned, so should be less than raw"
   ]
  },
  {
   "cell_type": "markdown",
   "id": "b3b2920b-1cf1-4a49-8736-8725d1ca545d",
   "metadata": {},
   "source": [
    "## 3: Run Analytics Models"
   ]
  },
  {
   "cell_type": "code",
   "execution_count": 6,
   "id": "0c016a93-83bc-4cf0-a6d7-9b65beb15c02",
   "metadata": {},
   "outputs": [
    {
     "name": "stdout",
     "output_type": "stream",
     "text": [
      "Requirement already satisfied: statsmodels in /opt/anaconda3/envs/py38_env/lib/python3.8/site-packages (0.14.1)\n",
      "Requirement already satisfied: patsy in /opt/anaconda3/envs/py38_env/lib/python3.8/site-packages (0.5.6)\n",
      "Requirement already satisfied: numpy<2,>=1.18 in /opt/anaconda3/envs/py38_env/lib/python3.8/site-packages (from statsmodels) (1.24.3)\n",
      "Requirement already satisfied: scipy!=1.9.2,>=1.4 in /opt/anaconda3/envs/py38_env/lib/python3.8/site-packages (from statsmodels) (1.10.1)\n",
      "Requirement already satisfied: pandas!=2.1.0,>=1.0 in /opt/anaconda3/envs/py38_env/lib/python3.8/site-packages (from statsmodels) (2.0.3)\n",
      "Requirement already satisfied: packaging>=21.3 in /opt/anaconda3/envs/py38_env/lib/python3.8/site-packages (from statsmodels) (24.1)\n",
      "Requirement already satisfied: six in /opt/anaconda3/envs/py38_env/lib/python3.8/site-packages (from patsy) (1.16.0)\n",
      "Requirement already satisfied: python-dateutil>=2.8.2 in /opt/anaconda3/envs/py38_env/lib/python3.8/site-packages (from pandas!=2.1.0,>=1.0->statsmodels) (2.8.3+snowflake1)\n",
      "Requirement already satisfied: pytz>=2020.1 in /opt/anaconda3/envs/py38_env/lib/python3.8/site-packages (from pandas!=2.1.0,>=1.0->statsmodels) (2024.1)\n",
      "Requirement already satisfied: tzdata>=2022.1 in /opt/anaconda3/envs/py38_env/lib/python3.8/site-packages (from pandas!=2.1.0,>=1.0->statsmodels) (2023.3)\n"
     ]
    }
   ],
   "source": [
    "!pip install statsmodels patsy"
   ]
  },
  {
   "cell_type": "code",
   "execution_count": 9,
   "id": "07a14bf5-c558-4600-8681-07b15639d636",
   "metadata": {},
   "outputs": [],
   "source": [
    "#Import packages for regression\n",
    "import statsmodels.api as sm\n",
    "from patsy import dmatrices"
   ]
  },
  {
   "cell_type": "code",
   "execution_count": 10,
   "id": "2edc2d09-1a38-4a9a-a90b-2e551e573bb3",
   "metadata": {},
   "outputs": [],
   "source": [
    "#pip install \"snowflake-connector-python[pandas]\""
   ]
  },
  {
   "cell_type": "code",
   "execution_count": 115,
   "id": "810202d8-3dd5-4156-b3a5-1fbf98d96a13",
   "metadata": {},
   "outputs": [
    {
     "data": {
      "text/html": [
       "<div>\n",
       "<style scoped>\n",
       "    .dataframe tbody tr th:only-of-type {\n",
       "        vertical-align: middle;\n",
       "    }\n",
       "\n",
       "    .dataframe tbody tr th {\n",
       "        vertical-align: top;\n",
       "    }\n",
       "\n",
       "    .dataframe thead th {\n",
       "        text-align: right;\n",
       "    }\n",
       "</style>\n",
       "<table border=\"1\" class=\"dataframe\">\n",
       "  <thead>\n",
       "    <tr style=\"text-align: right;\">\n",
       "      <th></th>\n",
       "      <th>NOC</th>\n",
       "      <th>COUNTRY</th>\n",
       "      <th>ID</th>\n",
       "      <th>NAME</th>\n",
       "      <th>SEX</th>\n",
       "      <th>AGE</th>\n",
       "      <th>HEIGHT</th>\n",
       "      <th>WEIGHT</th>\n",
       "      <th>GAMES</th>\n",
       "      <th>YEAR</th>\n",
       "      <th>YEAR_AS_DATE</th>\n",
       "      <th>SEASON</th>\n",
       "      <th>CITY</th>\n",
       "      <th>CITY_YEAR</th>\n",
       "      <th>SPORT</th>\n",
       "      <th>SPORT_EVENT</th>\n",
       "      <th>MEDAL</th>\n",
       "      <th>MEDAL_WON</th>\n",
       "    </tr>\n",
       "  </thead>\n",
       "  <tbody>\n",
       "    <tr>\n",
       "      <th>0</th>\n",
       "      <td>GBR</td>\n",
       "      <td>UK</td>\n",
       "      <td>128952</td>\n",
       "      <td>\"Barrington J. \"\"Barry\"\" Watson\"</td>\n",
       "      <td>M</td>\n",
       "      <td>32.0</td>\n",
       "      <td>166.0</td>\n",
       "      <td>51.0</td>\n",
       "      <td>1976 Summer</td>\n",
       "      <td>1976</td>\n",
       "      <td>1976-01-01</td>\n",
       "      <td>Summer</td>\n",
       "      <td>Montreal</td>\n",
       "      <td>Montreal 1976</td>\n",
       "      <td>Athletics</td>\n",
       "      <td>Athletics Men's Marathon</td>\n",
       "      <td>None</td>\n",
       "      <td>0</td>\n",
       "    </tr>\n",
       "    <tr>\n",
       "      <th>1</th>\n",
       "      <td>AUS</td>\n",
       "      <td>Australia</td>\n",
       "      <td>58972</td>\n",
       "      <td>Michelle Kettner</td>\n",
       "      <td>F</td>\n",
       "      <td>27.0</td>\n",
       "      <td>162.0</td>\n",
       "      <td>68.0</td>\n",
       "      <td>2000 Summer</td>\n",
       "      <td>2000</td>\n",
       "      <td>2000-01-01</td>\n",
       "      <td>Summer</td>\n",
       "      <td>Sydney</td>\n",
       "      <td>Sydney 2000</td>\n",
       "      <td>Weightlifting</td>\n",
       "      <td>Weightlifting Women's Light-Heavyweight</td>\n",
       "      <td>None</td>\n",
       "      <td>0</td>\n",
       "    </tr>\n",
       "    <tr>\n",
       "      <th>2</th>\n",
       "      <td>URS</td>\n",
       "      <td>Russia</td>\n",
       "      <td>109161</td>\n",
       "      <td>Borys Anfiyanovych Shakhlin</td>\n",
       "      <td>M</td>\n",
       "      <td>32.0</td>\n",
       "      <td>171.0</td>\n",
       "      <td>71.0</td>\n",
       "      <td>1964 Summer</td>\n",
       "      <td>1964</td>\n",
       "      <td>1964-01-01</td>\n",
       "      <td>Summer</td>\n",
       "      <td>Tokyo</td>\n",
       "      <td>Tokyo 1964</td>\n",
       "      <td>Gymnastics</td>\n",
       "      <td>Gymnastics Men's Parallel Bars</td>\n",
       "      <td>None</td>\n",
       "      <td>0</td>\n",
       "    </tr>\n",
       "    <tr>\n",
       "      <th>3</th>\n",
       "      <td>DEN</td>\n",
       "      <td>Denmark</td>\n",
       "      <td>107079</td>\n",
       "      <td>Carl Richardt Schmidt</td>\n",
       "      <td>M</td>\n",
       "      <td>23.0</td>\n",
       "      <td>NaN</td>\n",
       "      <td>NaN</td>\n",
       "      <td>1928 Summer</td>\n",
       "      <td>1928</td>\n",
       "      <td>1928-01-01</td>\n",
       "      <td>Summer</td>\n",
       "      <td>Amsterdam</td>\n",
       "      <td>Amsterdam 1928</td>\n",
       "      <td>Rowing</td>\n",
       "      <td>Rowing Men's Coxed Eights</td>\n",
       "      <td>None</td>\n",
       "      <td>0</td>\n",
       "    </tr>\n",
       "    <tr>\n",
       "      <th>4</th>\n",
       "      <td>BUL</td>\n",
       "      <td>Bulgaria</td>\n",
       "      <td>59402</td>\n",
       "      <td>Khrabrina Bozhidarova Khrabrova</td>\n",
       "      <td>F</td>\n",
       "      <td>15.0</td>\n",
       "      <td>155.0</td>\n",
       "      <td>41.0</td>\n",
       "      <td>1988 Summer</td>\n",
       "      <td>1988</td>\n",
       "      <td>1988-01-01</td>\n",
       "      <td>Summer</td>\n",
       "      <td>Seoul</td>\n",
       "      <td>Seoul 1988</td>\n",
       "      <td>Gymnastics</td>\n",
       "      <td>Gymnastics Women's Balance Beam</td>\n",
       "      <td>None</td>\n",
       "      <td>0</td>\n",
       "    </tr>\n",
       "  </tbody>\n",
       "</table>\n",
       "</div>"
      ],
      "text/plain": [
       "   NOC    COUNTRY      ID                              NAME SEX   AGE  HEIGHT  \\\n",
       "0  GBR         UK  128952  \"Barrington J. \"\"Barry\"\" Watson\"   M  32.0   166.0   \n",
       "1  AUS  Australia   58972                  Michelle Kettner   F  27.0   162.0   \n",
       "2  URS     Russia  109161       Borys Anfiyanovych Shakhlin   M  32.0   171.0   \n",
       "3  DEN    Denmark  107079             Carl Richardt Schmidt   M  23.0     NaN   \n",
       "4  BUL   Bulgaria   59402   Khrabrina Bozhidarova Khrabrova   F  15.0   155.0   \n",
       "\n",
       "   WEIGHT        GAMES  YEAR YEAR_AS_DATE  SEASON       CITY       CITY_YEAR  \\\n",
       "0    51.0  1976 Summer  1976   1976-01-01  Summer   Montreal   Montreal 1976   \n",
       "1    68.0  2000 Summer  2000   2000-01-01  Summer     Sydney     Sydney 2000   \n",
       "2    71.0  1964 Summer  1964   1964-01-01  Summer      Tokyo      Tokyo 1964   \n",
       "3     NaN  1928 Summer  1928   1928-01-01  Summer  Amsterdam  Amsterdam 1928   \n",
       "4    41.0  1988 Summer  1988   1988-01-01  Summer      Seoul      Seoul 1988   \n",
       "\n",
       "           SPORT                              SPORT_EVENT MEDAL  MEDAL_WON  \n",
       "0      Athletics                 Athletics Men's Marathon  None          0  \n",
       "1  Weightlifting  Weightlifting Women's Light-Heavyweight  None          0  \n",
       "2     Gymnastics           Gymnastics Men's Parallel Bars  None          0  \n",
       "3         Rowing                Rowing Men's Coxed Eights  None          0  \n",
       "4     Gymnastics          Gymnastics Women's Balance Beam  None          0  "
      ]
     },
     "execution_count": 115,
     "metadata": {},
     "output_type": "execute_result"
    }
   ],
   "source": [
    "#Set the merged dataframe to a pandas\n",
    "p_df_merged = sf_df_merged.to_pandas()\n",
    "p_df_merged.head()"
   ]
  },
  {
   "cell_type": "code",
   "execution_count": 11,
   "id": "93e0a4d5-909a-4cab-9caa-5f1d94c24125",
   "metadata": {},
   "outputs": [
    {
     "data": {
      "text/plain": [
       "array(['NOC', 'COUNTRY', 'ID', 'NAME', 'SEX', 'AGE', 'HEIGHT', 'WEIGHT',\n",
       "       'GAMES', 'YEAR', 'YEAR_AS_DATE', 'SEASON', 'CITY', 'CITY_YEAR',\n",
       "       'SPORT', 'SPORT_EVENT', 'MEDAL', 'MEDAL_WON'], dtype=object)"
      ]
     },
     "execution_count": 11,
     "metadata": {},
     "output_type": "execute_result"
    }
   ],
   "source": [
    "p_df_merged.columns.values"
   ]
  },
  {
   "cell_type": "code",
   "execution_count": 12,
   "id": "cd2074eb-aa96-481c-9142-f5cf955f1439",
   "metadata": {},
   "outputs": [
    {
     "data": {
      "text/html": [
       "<div>\n",
       "<style scoped>\n",
       "    .dataframe tbody tr th:only-of-type {\n",
       "        vertical-align: middle;\n",
       "    }\n",
       "\n",
       "    .dataframe tbody tr th {\n",
       "        vertical-align: top;\n",
       "    }\n",
       "\n",
       "    .dataframe thead th {\n",
       "        text-align: right;\n",
       "    }\n",
       "</style>\n",
       "<table border=\"1\" class=\"dataframe\">\n",
       "  <thead>\n",
       "    <tr style=\"text-align: right;\">\n",
       "      <th></th>\n",
       "      <th>NOC</th>\n",
       "      <th>COUNTRY</th>\n",
       "      <th>ID</th>\n",
       "      <th>NAME</th>\n",
       "      <th>SEX</th>\n",
       "      <th>AGE</th>\n",
       "      <th>HEIGHT</th>\n",
       "      <th>WEIGHT</th>\n",
       "      <th>GAMES</th>\n",
       "      <th>YEAR</th>\n",
       "      <th>YEAR_AS_DATE</th>\n",
       "      <th>SEASON</th>\n",
       "      <th>CITY</th>\n",
       "      <th>CITY_YEAR</th>\n",
       "      <th>SPORT</th>\n",
       "      <th>SPORT_EVENT</th>\n",
       "      <th>MEDAL</th>\n",
       "      <th>MEDAL_WON</th>\n",
       "    </tr>\n",
       "  </thead>\n",
       "  <tbody>\n",
       "    <tr>\n",
       "      <th>14</th>\n",
       "      <td>HUN</td>\n",
       "      <td>Hungary</td>\n",
       "      <td>60858</td>\n",
       "      <td>Lszl Kiss</td>\n",
       "      <td>M</td>\n",
       "      <td>19.0</td>\n",
       "      <td>170.0</td>\n",
       "      <td>67.0</td>\n",
       "      <td>1960 Summer</td>\n",
       "      <td>1960</td>\n",
       "      <td>1960-01-01</td>\n",
       "      <td>Summer</td>\n",
       "      <td>Roma</td>\n",
       "      <td>Roma 1960</td>\n",
       "      <td>Swimming</td>\n",
       "      <td>Swimming Men's 200 metres Butterfly</td>\n",
       "      <td>None</td>\n",
       "      <td>0</td>\n",
       "    </tr>\n",
       "    <tr>\n",
       "      <th>18</th>\n",
       "      <td>ESP</td>\n",
       "      <td>Spain</td>\n",
       "      <td>13816</td>\n",
       "      <td>Javier Botello Garca</td>\n",
       "      <td>M</td>\n",
       "      <td>21.0</td>\n",
       "      <td>180.0</td>\n",
       "      <td>70.0</td>\n",
       "      <td>2000 Summer</td>\n",
       "      <td>2000</td>\n",
       "      <td>2000-01-01</td>\n",
       "      <td>Summer</td>\n",
       "      <td>Sydney</td>\n",
       "      <td>Sydney 2000</td>\n",
       "      <td>Swimming</td>\n",
       "      <td>Swimming Men's 4 x 100 metres Medley Relay</td>\n",
       "      <td>None</td>\n",
       "      <td>0</td>\n",
       "    </tr>\n",
       "    <tr>\n",
       "      <th>23</th>\n",
       "      <td>USA</td>\n",
       "      <td>USA</td>\n",
       "      <td>131579</td>\n",
       "      <td>\"William Tripp \"\"Bill\"\" Woolsey\"</td>\n",
       "      <td>M</td>\n",
       "      <td>17.0</td>\n",
       "      <td>183.0</td>\n",
       "      <td>84.0</td>\n",
       "      <td>1952 Summer</td>\n",
       "      <td>1952</td>\n",
       "      <td>1952-01-01</td>\n",
       "      <td>Summer</td>\n",
       "      <td>Helsinki</td>\n",
       "      <td>Helsinki 1952</td>\n",
       "      <td>Swimming</td>\n",
       "      <td>Swimming Men's 1,500 metres Freestyle</td>\n",
       "      <td>None</td>\n",
       "      <td>0</td>\n",
       "    </tr>\n",
       "    <tr>\n",
       "      <th>51</th>\n",
       "      <td>TPE</td>\n",
       "      <td>Taiwan</td>\n",
       "      <td>69961</td>\n",
       "      <td>Lin Chien-Ju</td>\n",
       "      <td>F</td>\n",
       "      <td>18.0</td>\n",
       "      <td>175.0</td>\n",
       "      <td>60.0</td>\n",
       "      <td>1996 Summer</td>\n",
       "      <td>1996</td>\n",
       "      <td>1996-01-01</td>\n",
       "      <td>Summer</td>\n",
       "      <td>Atlanta</td>\n",
       "      <td>Atlanta 1996</td>\n",
       "      <td>Swimming</td>\n",
       "      <td>Swimming Women's 4 x 100 metres Medley Relay</td>\n",
       "      <td>None</td>\n",
       "      <td>0</td>\n",
       "    </tr>\n",
       "    <tr>\n",
       "      <th>56</th>\n",
       "      <td>DEN</td>\n",
       "      <td>Denmark</td>\n",
       "      <td>86060</td>\n",
       "      <td>Susanne Schultz Nielsson (-Feldsgaard, -Hansen)</td>\n",
       "      <td>F</td>\n",
       "      <td>16.0</td>\n",
       "      <td>165.0</td>\n",
       "      <td>60.0</td>\n",
       "      <td>1976 Summer</td>\n",
       "      <td>1976</td>\n",
       "      <td>1976-01-01</td>\n",
       "      <td>Summer</td>\n",
       "      <td>Montreal</td>\n",
       "      <td>Montreal 1976</td>\n",
       "      <td>Swimming</td>\n",
       "      <td>Swimming Women's 200 metres Breaststroke</td>\n",
       "      <td>None</td>\n",
       "      <td>0</td>\n",
       "    </tr>\n",
       "  </tbody>\n",
       "</table>\n",
       "</div>"
      ],
      "text/plain": [
       "    NOC  COUNTRY      ID                                             NAME SEX  \\\n",
       "14  HUN  Hungary   60858                                        Lszl Kiss   M   \n",
       "18  ESP    Spain   13816                             Javier Botello Garca   M   \n",
       "23  USA      USA  131579                 \"William Tripp \"\"Bill\"\" Woolsey\"   M   \n",
       "51  TPE   Taiwan   69961                                     Lin Chien-Ju   F   \n",
       "56  DEN  Denmark   86060  Susanne Schultz Nielsson (-Feldsgaard, -Hansen)   F   \n",
       "\n",
       "     AGE  HEIGHT  WEIGHT        GAMES  YEAR YEAR_AS_DATE  SEASON      CITY  \\\n",
       "14  19.0   170.0    67.0  1960 Summer  1960   1960-01-01  Summer      Roma   \n",
       "18  21.0   180.0    70.0  2000 Summer  2000   2000-01-01  Summer    Sydney   \n",
       "23  17.0   183.0    84.0  1952 Summer  1952   1952-01-01  Summer  Helsinki   \n",
       "51  18.0   175.0    60.0  1996 Summer  1996   1996-01-01  Summer   Atlanta   \n",
       "56  16.0   165.0    60.0  1976 Summer  1976   1976-01-01  Summer  Montreal   \n",
       "\n",
       "        CITY_YEAR     SPORT                                   SPORT_EVENT  \\\n",
       "14      Roma 1960  Swimming           Swimming Men's 200 metres Butterfly   \n",
       "18    Sydney 2000  Swimming    Swimming Men's 4 x 100 metres Medley Relay   \n",
       "23  Helsinki 1952  Swimming         Swimming Men's 1,500 metres Freestyle   \n",
       "51   Atlanta 1996  Swimming  Swimming Women's 4 x 100 metres Medley Relay   \n",
       "56  Montreal 1976  Swimming      Swimming Women's 200 metres Breaststroke   \n",
       "\n",
       "   MEDAL  MEDAL_WON  \n",
       "14  None          0  \n",
       "18  None          0  \n",
       "23  None          0  \n",
       "51  None          0  \n",
       "56  None          0  "
      ]
     },
     "execution_count": 12,
     "metadata": {},
     "output_type": "execute_result"
    }
   ],
   "source": [
    "#select a subset of data for regression - because I will be using physical characteristics, I want to use the same sport\n",
    "df_regress = p_df_merged[p_df_merged['SPORT'] == 'Swimming']\n",
    "df_regress.head()"
   ]
  },
  {
   "cell_type": "code",
   "execution_count": 13,
   "id": "f5a2a22e-9d8b-44d6-8204-c03b02b2edad",
   "metadata": {},
   "outputs": [
    {
     "data": {
      "text/html": [
       "<div>\n",
       "<style scoped>\n",
       "    .dataframe tbody tr th:only-of-type {\n",
       "        vertical-align: middle;\n",
       "    }\n",
       "\n",
       "    .dataframe tbody tr th {\n",
       "        vertical-align: top;\n",
       "    }\n",
       "\n",
       "    .dataframe thead th {\n",
       "        text-align: right;\n",
       "    }\n",
       "</style>\n",
       "<table border=\"1\" class=\"dataframe\">\n",
       "  <thead>\n",
       "    <tr style=\"text-align: right;\">\n",
       "      <th></th>\n",
       "      <th>Intercept</th>\n",
       "      <th>AGE</th>\n",
       "      <th>HEIGHT</th>\n",
       "      <th>WEIGHT</th>\n",
       "    </tr>\n",
       "  </thead>\n",
       "  <tbody>\n",
       "    <tr>\n",
       "      <th>14</th>\n",
       "      <td>1.0</td>\n",
       "      <td>19.0</td>\n",
       "      <td>170.0</td>\n",
       "      <td>67.0</td>\n",
       "    </tr>\n",
       "    <tr>\n",
       "      <th>18</th>\n",
       "      <td>1.0</td>\n",
       "      <td>21.0</td>\n",
       "      <td>180.0</td>\n",
       "      <td>70.0</td>\n",
       "    </tr>\n",
       "    <tr>\n",
       "      <th>23</th>\n",
       "      <td>1.0</td>\n",
       "      <td>17.0</td>\n",
       "      <td>183.0</td>\n",
       "      <td>84.0</td>\n",
       "    </tr>\n",
       "  </tbody>\n",
       "</table>\n",
       "</div>"
      ],
      "text/plain": [
       "    Intercept   AGE  HEIGHT  WEIGHT\n",
       "14        1.0  19.0   170.0    67.0\n",
       "18        1.0  21.0   180.0    70.0\n",
       "23        1.0  17.0   183.0    84.0"
      ]
     },
     "execution_count": 13,
     "metadata": {},
     "output_type": "execute_result"
    }
   ],
   "source": [
    "#Set up matrices\n",
    "y, X = dmatrices('MEDAL_WON ~ AGE + HEIGHT + WEIGHT', data=df_regress, return_type='dataframe')\n",
    "X[:3]"
   ]
  },
  {
   "cell_type": "code",
   "execution_count": 14,
   "id": "5f23e57e-7239-46bc-9b64-79e73fc0dcd2",
   "metadata": {},
   "outputs": [
    {
     "name": "stdout",
     "output_type": "stream",
     "text": [
      "Optimization terminated successfully.\n",
      "         Current function value: 0.384968\n",
      "         Iterations 6\n"
     ]
    }
   ],
   "source": [
    "#Run regression and fit the model\n",
    "logit_model = sm.Logit(y, X)\n",
    "result = logit_model.fit()"
   ]
  },
  {
   "cell_type": "code",
   "execution_count": 15,
   "id": "505aa67f-d143-44ca-b658-76f95e90c063",
   "metadata": {},
   "outputs": [
    {
     "data": {
      "text/html": [
       "<table class=\"simpletable\">\n",
       "<caption>Logit Regression Results</caption>\n",
       "<tr>\n",
       "  <th>Dep. Variable:</th>       <td>MEDAL_WON</td>    <th>  No. Observations:  </th>  <td> 18627</td>  \n",
       "</tr>\n",
       "<tr>\n",
       "  <th>Model:</th>                 <td>Logit</td>      <th>  Df Residuals:      </th>  <td> 18623</td>  \n",
       "</tr>\n",
       "<tr>\n",
       "  <th>Method:</th>                 <td>MLE</td>       <th>  Df Model:          </th>  <td>     3</td>  \n",
       "</tr>\n",
       "<tr>\n",
       "  <th>Date:</th>            <td>Thu, 15 Aug 2024</td> <th>  Pseudo R-squ.:     </th>  <td>0.01288</td> \n",
       "</tr>\n",
       "<tr>\n",
       "  <th>Time:</th>                <td>10:03:24</td>     <th>  Log-Likelihood:    </th> <td> -7170.8</td> \n",
       "</tr>\n",
       "<tr>\n",
       "  <th>converged:</th>             <td>True</td>       <th>  LL-Null:           </th> <td> -7264.4</td> \n",
       "</tr>\n",
       "<tr>\n",
       "  <th>Covariance Type:</th>     <td>nonrobust</td>    <th>  LLR p-value:       </th> <td>2.484e-40</td>\n",
       "</tr>\n",
       "</table>\n",
       "<table class=\"simpletable\">\n",
       "<tr>\n",
       "      <td></td>         <th>coef</th>     <th>std err</th>      <th>z</th>      <th>P>|z|</th>  <th>[0.025</th>    <th>0.975]</th>  \n",
       "</tr>\n",
       "<tr>\n",
       "  <th>Intercept</th> <td>   -6.8209</td> <td>    0.580</td> <td>  -11.750</td> <td> 0.000</td> <td>   -7.959</td> <td>   -5.683</td>\n",
       "</tr>\n",
       "<tr>\n",
       "  <th>AGE</th>       <td>    0.0054</td> <td>    0.006</td> <td>    0.867</td> <td> 0.386</td> <td>   -0.007</td> <td>    0.018</td>\n",
       "</tr>\n",
       "<tr>\n",
       "  <th>HEIGHT</th>    <td>    0.0252</td> <td>    0.004</td> <td>    5.662</td> <td> 0.000</td> <td>    0.016</td> <td>    0.034</td>\n",
       "</tr>\n",
       "<tr>\n",
       "  <th>WEIGHT</th>    <td>    0.0041</td> <td>    0.004</td> <td>    1.083</td> <td> 0.279</td> <td>   -0.003</td> <td>    0.012</td>\n",
       "</tr>\n",
       "</table>"
      ],
      "text/latex": [
       "\\begin{center}\n",
       "\\begin{tabular}{lclc}\n",
       "\\toprule\n",
       "\\textbf{Dep. Variable:}   &    MEDAL\\_WON    & \\textbf{  No. Observations:  } &    18627    \\\\\n",
       "\\textbf{Model:}           &      Logit       & \\textbf{  Df Residuals:      } &    18623    \\\\\n",
       "\\textbf{Method:}          &       MLE        & \\textbf{  Df Model:          } &        3    \\\\\n",
       "\\textbf{Date:}            & Thu, 15 Aug 2024 & \\textbf{  Pseudo R-squ.:     } &  0.01288    \\\\\n",
       "\\textbf{Time:}            &     10:03:24     & \\textbf{  Log-Likelihood:    } &   -7170.8   \\\\\n",
       "\\textbf{converged:}       &       True       & \\textbf{  LL-Null:           } &   -7264.4   \\\\\n",
       "\\textbf{Covariance Type:} &    nonrobust     & \\textbf{  LLR p-value:       } & 2.484e-40   \\\\\n",
       "\\bottomrule\n",
       "\\end{tabular}\n",
       "\\begin{tabular}{lcccccc}\n",
       "                   & \\textbf{coef} & \\textbf{std err} & \\textbf{z} & \\textbf{P$> |$z$|$} & \\textbf{[0.025} & \\textbf{0.975]}  \\\\\n",
       "\\midrule\n",
       "\\textbf{Intercept} &      -6.8209  &        0.580     &   -11.750  &         0.000        &       -7.959    &       -5.683     \\\\\n",
       "\\textbf{AGE}       &       0.0054  &        0.006     &     0.867  &         0.386        &       -0.007    &        0.018     \\\\\n",
       "\\textbf{HEIGHT}    &       0.0252  &        0.004     &     5.662  &         0.000        &        0.016    &        0.034     \\\\\n",
       "\\textbf{WEIGHT}    &       0.0041  &        0.004     &     1.083  &         0.279        &       -0.003    &        0.012     \\\\\n",
       "\\bottomrule\n",
       "\\end{tabular}\n",
       "%\\caption{Logit Regression Results}\n",
       "\\end{center}"
      ],
      "text/plain": [
       "<class 'statsmodels.iolib.summary.Summary'>\n",
       "\"\"\"\n",
       "                           Logit Regression Results                           \n",
       "==============================================================================\n",
       "Dep. Variable:              MEDAL_WON   No. Observations:                18627\n",
       "Model:                          Logit   Df Residuals:                    18623\n",
       "Method:                           MLE   Df Model:                            3\n",
       "Date:                Thu, 15 Aug 2024   Pseudo R-squ.:                 0.01288\n",
       "Time:                        10:03:24   Log-Likelihood:                -7170.8\n",
       "converged:                       True   LL-Null:                       -7264.4\n",
       "Covariance Type:            nonrobust   LLR p-value:                 2.484e-40\n",
       "==============================================================================\n",
       "                 coef    std err          z      P>|z|      [0.025      0.975]\n",
       "------------------------------------------------------------------------------\n",
       "Intercept     -6.8209      0.580    -11.750      0.000      -7.959      -5.683\n",
       "AGE            0.0054      0.006      0.867      0.386      -0.007       0.018\n",
       "HEIGHT         0.0252      0.004      5.662      0.000       0.016       0.034\n",
       "WEIGHT         0.0041      0.004      1.083      0.279      -0.003       0.012\n",
       "==============================================================================\n",
       "\"\"\""
      ]
     },
     "execution_count": 15,
     "metadata": {},
     "output_type": "execute_result"
    }
   ],
   "source": [
    "result.summary()"
   ]
  },
  {
   "cell_type": "markdown",
   "id": "df2c1c84-6a3a-4f40-9111-c7daa4db5c5f",
   "metadata": {},
   "source": [
    "Using logistic regression to determine how physical characteristics impact whether or not athletes win medals shows that there is very little statistically significant relationship between the variables. The Pseudo r-squared of 0.012 and the high p-values for age and weight demonstrate this. Height is the only variable that is shown to impact likelihood of winning a medal, which makes sense for swimming, but the coefficient is still rather small. "
   ]
  },
  {
   "cell_type": "code",
   "execution_count": 50,
   "id": "3ec4c8bc-f45d-4641-8086-1fc24f43cf9b",
   "metadata": {},
   "outputs": [],
   "source": [
    "#The next model will be seeing how height and weight will trend over time in the sport of athletics \n",
    "df_athletics = p_df_merged[p_df_merged['SPORT'] == 'Athletics']\n",
    "df_athletics = df_athletics[df_athletics['SEX'] == 'M'] #just using men data for accuracy"
   ]
  },
  {
   "cell_type": "code",
   "execution_count": 48,
   "id": "aec9a293-7315-4aa0-a16e-6c3eb2a40a2f",
   "metadata": {},
   "outputs": [
    {
     "data": {
      "text/html": [
       "<div>\n",
       "<style scoped>\n",
       "    .dataframe tbody tr th:only-of-type {\n",
       "        vertical-align: middle;\n",
       "    }\n",
       "\n",
       "    .dataframe tbody tr th {\n",
       "        vertical-align: top;\n",
       "    }\n",
       "\n",
       "    .dataframe thead th {\n",
       "        text-align: right;\n",
       "    }\n",
       "</style>\n",
       "<table border=\"1\" class=\"dataframe\">\n",
       "  <thead>\n",
       "    <tr style=\"text-align: right;\">\n",
       "      <th></th>\n",
       "      <th>YEAR</th>\n",
       "      <th>HEIGHT</th>\n",
       "      <th>WEIGHT</th>\n",
       "    </tr>\n",
       "  </thead>\n",
       "  <tbody>\n",
       "    <tr>\n",
       "      <th>0</th>\n",
       "      <td>1896</td>\n",
       "      <td>174.875000</td>\n",
       "      <td>70.068966</td>\n",
       "    </tr>\n",
       "    <tr>\n",
       "      <th>1</th>\n",
       "      <td>1900</td>\n",
       "      <td>178.578947</td>\n",
       "      <td>74.526316</td>\n",
       "    </tr>\n",
       "    <tr>\n",
       "      <th>2</th>\n",
       "      <td>1904</td>\n",
       "      <td>178.229885</td>\n",
       "      <td>73.903614</td>\n",
       "    </tr>\n",
       "    <tr>\n",
       "      <th>3</th>\n",
       "      <td>1906</td>\n",
       "      <td>180.328947</td>\n",
       "      <td>74.744828</td>\n",
       "    </tr>\n",
       "    <tr>\n",
       "      <th>4</th>\n",
       "      <td>1908</td>\n",
       "      <td>178.132686</td>\n",
       "      <td>73.514286</td>\n",
       "    </tr>\n",
       "  </tbody>\n",
       "</table>\n",
       "</div>"
      ],
      "text/plain": [
       "   YEAR      HEIGHT     WEIGHT\n",
       "0  1896  174.875000  70.068966\n",
       "1  1900  178.578947  74.526316\n",
       "2  1904  178.229885  73.903614\n",
       "3  1906  180.328947  74.744828\n",
       "4  1908  178.132686  73.514286"
      ]
     },
     "execution_count": 48,
     "metadata": {},
     "output_type": "execute_result"
    }
   ],
   "source": [
    "#Now aggregating by year, I want to see the avg height and weight\n",
    "annual_data = df_athletics.groupby('YEAR').agg({\n",
    "    'HEIGHT': 'mean',\n",
    "    'WEIGHT': 'mean'\n",
    "}).reset_index()\n",
    "\n",
    "annual_data[:5] #all data is in cm and kg"
   ]
  },
  {
   "cell_type": "code",
   "execution_count": 54,
   "id": "a205efdc-8d6a-430a-a914-13155ba2081c",
   "metadata": {},
   "outputs": [
    {
     "data": {
      "image/png": "[encoded data removed]",
      "text/plain": [
       "<Figure size 1400x600 with 2 Axes>"
      ]
     },
     "metadata": {},
     "output_type": "display_data"
    }
   ],
   "source": [
    "#Visualizing the data to see the trend\n",
    "import matplotlib.pyplot as plt\n",
    "\n",
    "plt.figure(figsize=(14, 6))\n",
    "\n",
    "#Creating subplots to compare side by side\n",
    "#height plot\n",
    "plt.subplot(1, 2, 1)\n",
    "plt.plot(annual_data['YEAR'], annual_data['HEIGHT'], marker='o', color='red')\n",
    "plt.title('Average Height')\n",
    "plt.xlabel('Year')\n",
    "plt.ylabel('Height')\n",
    "\n",
    "#weight plot\n",
    "plt.subplot(1, 2, 2)\n",
    "plt.plot(annual_data['YEAR'], annual_data['WEIGHT'], marker='o')\n",
    "plt.title('Average Weight')\n",
    "plt.xlabel('Year')\n",
    "plt.ylabel('Weight')\n",
    "\n",
    "plt.tight_layout()\n",
    "plt.show()"
   ]
  },
  {
   "cell_type": "code",
   "execution_count": 85,
   "id": "510bf47e-49e5-4170-bb99-a90bb9aadcac",
   "metadata": {},
   "outputs": [
    {
     "name": "stdout",
     "output_type": "stream",
     "text": [
      "29    181.278808\n",
      "30    180.968889\n",
      "31    181.241607\n",
      "32    181.001624\n",
      "33    181.212801\n",
      "Name: predicted_mean, dtype: float64\n"
     ]
    }
   ],
   "source": [
    "#Now using ARIMA I will predict a few years in the future\n",
    "from statsmodels.tsa.arima.model import ARIMA\n",
    "\n",
    "# Fit ARIMA model for height\n",
    "height_model = ARIMA(annual_data['HEIGHT'], order=(1, 1, 1))\n",
    "height_model_fit = height_model.fit()\n",
    "\n",
    "# Forecasting the next 40 years\n",
    "height_forecast = height_model_fit.forecast(steps=40)\n",
    "print(height_forecast.head())"
   ]
  },
  {
   "cell_type": "code",
   "execution_count": 84,
   "id": "5216a581-e3c9-4400-9cc1-a872ee2a9d9d",
   "metadata": {},
   "outputs": [
    {
     "name": "stdout",
     "output_type": "stream",
     "text": [
      "29    74.628040\n",
      "30    74.527196\n",
      "31    74.585812\n",
      "32    74.551741\n",
      "33    74.571545\n",
      "Name: predicted_mean, dtype: float64\n"
     ]
    },
    {
     "name": "stderr",
     "output_type": "stream",
     "text": [
      "/opt/anaconda3/envs/py38_env/lib/python3.8/site-packages/statsmodels/tsa/statespace/sarimax.py:966: UserWarning: Non-stationary starting autoregressive parameters found. Using zeros as starting parameters.\n",
      "  warn('Non-stationary starting autoregressive parameters'\n",
      "/opt/anaconda3/envs/py38_env/lib/python3.8/site-packages/statsmodels/tsa/statespace/sarimax.py:978: UserWarning: Non-invertible starting MA parameters found. Using zeros as starting parameters.\n",
      "  warn('Non-invertible starting MA parameters found.'\n"
     ]
    }
   ],
   "source": [
    "# Fit ARIMA model for weight\n",
    "weight_model = ARIMA(annual_data['WEIGHT'], order=(1, 1, 1))\n",
    "weight_model_fit = weight_model.fit()\n",
    "\n",
    "# Forecasting the next 40 years\n",
    "weight_forecast = weight_model_fit.forecast(steps=40)\n",
    "print(weight_forecast.head())"
   ]
  },
  {
   "cell_type": "code",
   "execution_count": 86,
   "id": "b279b633-625d-4665-a791-af6ce34eaa84",
   "metadata": {},
   "outputs": [
    {
     "data": {
      "image/png": "[encoded data removed]",
      "text/plain": [
       "<Figure size 1500x700 with 2 Axes>"
      ]
     },
     "metadata": {},
     "output_type": "display_data"
    }
   ],
   "source": [
    "#Finally, visualize the forecasts on top of the existing data\n",
    "future_years = list(range(annual_data['YEAR'].max() + 1, annual_data['YEAR'].max() + 41))\n",
    "\n",
    "\n",
    "plt.figure(figsize=(15, 7))\n",
    "\n",
    "#Height forecast\n",
    "plt.subplot(1, 2, 1)\n",
    "plt.plot(annual_data['YEAR'], annual_data['HEIGHT'], marker='o', label='Historical Data', color='red')\n",
    "plt.plot(future_years, height_forecast, marker='o', linestyle='--', label='Forecast',color='orange')\n",
    "plt.title('Height Forecast')\n",
    "plt.xlabel('Year')\n",
    "plt.ylabel('Height')\n",
    "plt.legend()\n",
    "\n",
    "#Weight Forecast\n",
    "plt.subplot(1, 2, 2)\n",
    "plt.plot(annual_data['YEAR'], annual_data['WEIGHT'], marker='o', label='Historical Data')\n",
    "plt.plot(future_years, weight_forecast, marker='o', linestyle='--', label='Forecast', color='orange')\n",
    "plt.title('Weight Forecast')\n",
    "plt.xlabel('Year')\n",
    "plt.ylabel('Weight')\n",
    "plt.legend()\n",
    "\n",
    "plt.tight_layout()\n",
    "plt.show()"
   ]
  },
  {
   "cell_type": "markdown",
   "id": "1d848b65-fa98-43cf-9158-c32c1389e7c7",
   "metadata": {},
   "source": [
    "These charts show that either the data is not great for predicting future height and weight means, or based on trends, these measures will largely flatten out over the next 40 years or so. Either way, there are some limitations to using this data for future forecasts. "
   ]
  },
  {
   "cell_type": "markdown",
   "id": "81ef1d08-3803-45ab-b23b-a4ac8b0b08bd",
   "metadata": {},
   "source": [
    "## 4: Write the analytical outputs back to Snowflake"
   ]
  },
  {
   "cell_type": "code",
   "execution_count": 91,
   "id": "2b9d4137-379a-4cf8-87b9-da914104619a",
   "metadata": {},
   "outputs": [
    {
     "data": {
      "text/html": [
       "<div>\n",
       "<style scoped>\n",
       "    .dataframe tbody tr th:only-of-type {\n",
       "        vertical-align: middle;\n",
       "    }\n",
       "\n",
       "    .dataframe tbody tr th {\n",
       "        vertical-align: top;\n",
       "    }\n",
       "\n",
       "    .dataframe thead th {\n",
       "        text-align: right;\n",
       "    }\n",
       "</style>\n",
       "<table border=\"1\" class=\"dataframe\">\n",
       "  <thead>\n",
       "    <tr style=\"text-align: right;\">\n",
       "      <th></th>\n",
       "      <th>YEAR</th>\n",
       "      <th>predicted_avg_height</th>\n",
       "    </tr>\n",
       "  </thead>\n",
       "  <tbody>\n",
       "    <tr>\n",
       "      <th>68</th>\n",
       "      <td>2056</td>\n",
       "      <td>181.112829</td>\n",
       "    </tr>\n",
       "  </tbody>\n",
       "</table>\n",
       "</div>"
      ],
      "text/plain": [
       "    YEAR  predicted_avg_height\n",
       "68  2056            181.112829"
      ]
     },
     "execution_count": 91,
     "metadata": {},
     "output_type": "execute_result"
    }
   ],
   "source": [
    "# I will first need to create a dataframe with the predicted heights and weights for the future\n",
    "# Create a DataFrame with future years and predicted values\n",
    "\n",
    "#same as above on the chart\n",
    "future_years = list(range(annual_data['YEAR'].max() + 1, annual_data['YEAR'].max() + 41))\n",
    "\n",
    "#create the 2 dfs to be merged with yearly predictions\n",
    "height_forecast_df = pd.DataFrame({'YEAR': future_years, 'predicted_avg_height': height_forecast})\n",
    "weight_forecast_df = pd.DataFrame({'YEAR': future_years, 'predicted_avg_weight': weight_forecast})\n",
    "height_forecast_df[-1:]"
   ]
  },
  {
   "cell_type": "code",
   "execution_count": 94,
   "id": "a851dac0-4b49-413d-bf5f-f582970fae83",
   "metadata": {},
   "outputs": [
    {
     "data": {
      "text/html": [
       "<div>\n",
       "<style scoped>\n",
       "    .dataframe tbody tr th:only-of-type {\n",
       "        vertical-align: middle;\n",
       "    }\n",
       "\n",
       "    .dataframe tbody tr th {\n",
       "        vertical-align: top;\n",
       "    }\n",
       "\n",
       "    .dataframe thead th {\n",
       "        text-align: right;\n",
       "    }\n",
       "</style>\n",
       "<table border=\"1\" class=\"dataframe\">\n",
       "  <thead>\n",
       "    <tr style=\"text-align: right;\">\n",
       "      <th></th>\n",
       "      <th>YEAR</th>\n",
       "      <th>predicted_avg_height</th>\n",
       "      <th>predicted_avg_weight</th>\n",
       "    </tr>\n",
       "  </thead>\n",
       "  <tbody>\n",
       "    <tr>\n",
       "      <th>0</th>\n",
       "      <td>2017</td>\n",
       "      <td>181.278808</td>\n",
       "      <td>74.628040</td>\n",
       "    </tr>\n",
       "    <tr>\n",
       "      <th>1</th>\n",
       "      <td>2018</td>\n",
       "      <td>180.968889</td>\n",
       "      <td>74.527196</td>\n",
       "    </tr>\n",
       "    <tr>\n",
       "      <th>2</th>\n",
       "      <td>2019</td>\n",
       "      <td>181.241607</td>\n",
       "      <td>74.585812</td>\n",
       "    </tr>\n",
       "    <tr>\n",
       "      <th>3</th>\n",
       "      <td>2020</td>\n",
       "      <td>181.001624</td>\n",
       "      <td>74.551741</td>\n",
       "    </tr>\n",
       "    <tr>\n",
       "      <th>4</th>\n",
       "      <td>2021</td>\n",
       "      <td>181.212801</td>\n",
       "      <td>74.571545</td>\n",
       "    </tr>\n",
       "  </tbody>\n",
       "</table>\n",
       "</div>"
      ],
      "text/plain": [
       "   YEAR  predicted_avg_height  predicted_avg_weight\n",
       "0  2017            181.278808             74.628040\n",
       "1  2018            180.968889             74.527196\n",
       "2  2019            181.241607             74.585812\n",
       "3  2020            181.001624             74.551741\n",
       "4  2021            181.212801             74.571545"
      ]
     },
     "execution_count": 94,
     "metadata": {},
     "output_type": "execute_result"
    }
   ],
   "source": [
    "#Now merge the height and weight forecasts into one\n",
    "athletics_forecast_df = pd.merge(height_forecast_df, weight_forecast_df, on='YEAR')\n",
    "athletics_forecast_df.head()"
   ]
  },
  {
   "cell_type": "code",
   "execution_count": 116,
   "id": "36d079bb-fe78-44aa-9103-8dbce9c52833",
   "metadata": {},
   "outputs": [],
   "source": [
    "#Connect to the gold layer in Snowflake\n",
    "snowflake_param_dict_gold = {\n",
    "    'account': 'flb08246',   \n",
    "    'user': 'HIPPO',              \n",
    "    'password': 'Stoves99!!',    \n",
    "    'role': 'ACCOUNTADMIN', \n",
    "    'warehouse': 'AH64595_WH',  \n",
    "    'database': 'AH64595_DW',    \n",
    "    'schema': 'EDW_GOLD_LAYER2'}\n",
    "\n",
    "#initiate the session with config\n",
    "session_gold = Session.builder.configs(snowflake_param_dict_gold).create()"
   ]
  },
  {
   "cell_type": "code",
   "execution_count": 117,
   "id": "f824ef40-e466-44e5-99eb-b79cbeba4b83",
   "metadata": {},
   "outputs": [],
   "source": [
    "#Create a snowflake data frame for the pandas df\n",
    "sf_athletics_forecast = session_gold.create_dataframe(athletics_forecast_df)"
   ]
  },
  {
   "cell_type": "code",
   "execution_count": 118,
   "id": "7a1e60ed-ee28-4f15-81ed-da5e335b3562",
   "metadata": {},
   "outputs": [],
   "source": [
    "#Write the results to the gold layer\n",
    "sf_athletics_forecast.write.mode('overwrite').save_as_table(\"ATHLETICS_FORECAST\")"
   ]
  }
 ],
 "metadata": {
  "kernelspec": {
   "display_name": "Python 3 (ipykernel)",
   "language": "python",
   "name": "python3"
  },
  "language_info": {
   "codemirror_mode": {
    "name": "ipython",
    "version": 3
   },
   "file_extension": ".py",
   "mimetype": "text/x-python",
   "name": "python",
   "nbconvert_exporter": "python",
   "pygments_lexer": "ipython3",
   "version": "3.8.19"
  }
 },
 "nbformat": 4,
 "nbformat_minor": 5
}
